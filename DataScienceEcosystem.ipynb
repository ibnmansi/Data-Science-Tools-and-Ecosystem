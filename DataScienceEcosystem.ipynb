{
 "cells": [
  {
   "cell_type": "markdown",
   "id": "78953514-b81f-4fa5-9d40-87e6533c7c73",
   "metadata": {},
   "source": [
    "# Data Science Tools and Ecosystem"
   ]
  },
  {
   "cell_type": "markdown",
   "id": "e7be6ca8-173e-455d-be17-5436af3b017f",
   "metadata": {},
   "source": [
    "In this notebook, Data Science Tools and Ecosystem are summarized. "
   ]
  },
  {
   "cell_type": "markdown",
   "id": "e8eb7fa2-4d50-4a95-b69d-dfd9b9612200",
   "metadata": {},
   "source": [
    "**Objectives:**\n",
    "* List popular languages for Data Science.\n",
    "* List popular libraries for Data Science.\n",
    "* Some arithmetic expressions."
   ]
  },
  {
   "cell_type": "markdown",
   "id": "14ed57c7-c372-4940-9b19-99a1b71be47a",
   "metadata": {},
   "source": [
    "Some of the popular languages that Data Scientists use are:\n",
    "1. python\n",
    "2. R\n",
    "3. ruby"
   ]
  },
  {
   "cell_type": "markdown",
   "id": "f5aabbd1-fc9d-479a-a258-a3044e6548be",
   "metadata": {},
   "source": [
    "Some of the commonly used libraries used by Data Scientists include:\n",
    "1. Pandas\n",
    "2. NumPy\n",
    "3. Matpoltlip\n",
    "\n"
   ]
  },
  {
   "cell_type": "markdown",
   "id": "114b8f01-5e2b-4742-8604-d51fde1e6822",
   "metadata": {},
   "source": [
    "|Data Science Tools|\n",
    "|------------------|\n",
    "|jupyter|\n",
    "|Rstudio|\n",
    "|Spider IDE|\n"
   ]
  },
  {
   "cell_type": "markdown",
   "id": "74351b29-9bcb-4d51-9cbc-838ad0156135",
   "metadata": {},
   "source": [
    "### Below are a few examples of evaluating arithmetic expressions in Python \n",
    "\n",
    " * 2+5 = 7\n",
    " * 4-2 = 2\n",
    " * 9*1 = 9"
   ]
  },
  {
   "cell_type": "code",
   "execution_count": 1,
   "id": "0f4090df-5df8-49cc-b73a-cf1c4f2f8df4",
   "metadata": {},
   "outputs": [
    {
     "data": {
      "text/plain": [
       "17"
      ]
     },
     "execution_count": 1,
     "metadata": {},
     "output_type": "execute_result"
    }
   ],
   "source": [
    "# This a simple arithmetic expression to mutiply then add integers.\n",
    "\n",
    "(3*4)+5"
   ]
  },
  {
   "cell_type": "code",
   "execution_count": 3,
   "id": "fde47513-b7a2-46c5-bbb2-1fc43565fc1f",
   "metadata": {},
   "outputs": [
    {
     "name": "stdout",
     "output_type": "stream",
     "text": [
      "3.3333333333333335\n"
     ]
    }
   ],
   "source": [
    "# This will convert 200 minutes to hours by diving by 60\n",
    "\n",
    "hours = 200 / 60 \n",
    "print(hours)"
   ]
  },
  {
   "cell_type": "markdown",
   "id": "2afad3d8-1fc8-4a32-a421-76dfa0da59b4",
   "metadata": {},
   "source": [
    "## Author\n",
    "Ahmed ibn Mansi"
   ]
  },
  {
   "cell_type": "code",
   "execution_count": null,
   "id": "36e3a0eb-e369-4670-82c0-e193be678d59",
   "metadata": {},
   "outputs": [],
   "source": []
  },
  {
   "cell_type": "code",
   "execution_count": null,
   "id": "e1f01c9d-0ebc-4520-8fb4-d939094d798c",
   "metadata": {},
   "outputs": [],
   "source": []
  }
 ],
 "metadata": {
  "kernelspec": {
   "display_name": "Python 3 (ipykernel)",
   "language": "python",
   "name": "python3"
  },
  "language_info": {
   "codemirror_mode": {
    "name": "ipython",
    "version": 3
   },
   "file_extension": ".py",
   "mimetype": "text/x-python",
   "name": "python",
   "nbconvert_exporter": "python",
   "pygments_lexer": "ipython3",
   "version": "3.10.12"
  }
 },
 "nbformat": 4,
 "nbformat_minor": 5
}
